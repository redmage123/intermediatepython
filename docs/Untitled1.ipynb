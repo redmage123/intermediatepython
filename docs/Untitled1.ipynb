{
 "cells": [
  {
   "cell_type": "code",
   "execution_count": null,
   "metadata": {},
   "outputs": [],
   "source": [
    "''' Circuitous, LLC -\n",
    "    An Advanced Circle Analytics Company\n",
    "'''\n",
    "\n",
    "class Circle(object):\n",
    "    ''' An advanced circle analytics toolkit. '''\n",
    "    def __init__(self,radius):\n",
    "        self.radius = radius\n",
    "\n",
    "    def area(self,radius):\n",
    "        return(3.14 * self.radius ** 2.0)"
   ]
  },
  {
   "cell_type": "code",
   "execution_count": null,
   "metadata": {},
   "outputs": [],
   "source": [
    "''' Circuitous, LLC -\n",
    "    An Advanced Circle Analytics Company\n",
    "'''\n",
    "from math import pi\n",
    "class Circle(object):\n",
    "    ''' An advanced circle analytics toolkit. '''\n",
    "    version = '0.1'\n",
    "    def __init__(self,radius):\n",
    "        self.radius = radius\n",
    "\n",
    "    def area(self,radius):\n",
    "        return(pi * self.radius ** 2.0)"
   ]
  },
  {
   "cell_type": "code",
   "execution_count": null,
   "metadata": {},
   "outputs": [],
   "source": [
    "from random import random,seed\n",
    "seed(8675309)\n",
    "n = 100000000\n",
    "circles = [Circle(random()) for i in range(n)]\n",
    "print ('The average area of ',n,' random circles')\n",
    "avg = sum((c.area() for c in circles))\n",
    "print ('{:.1f}'.format(avg))"
   ]
  },
  {
   "cell_type": "markdown",
   "metadata": {},
   "source": [
    "New customer,  Rubber Tire Company. \n"
   ]
  },
  {
   "cell_type": "code",
   "execution_count": null,
   "metadata": {},
   "outputs": [],
   "source": [
    "''' Circuitous, LLC -\n",
    "    An Advanced Circle Analytics Company\n",
    "'''\n",
    "from math import pi\n",
    "class Circle(object):\n",
    "    ''' An advanced circle analytics toolkit. '''\n",
    "    version = '0.2'\n",
    "    def __init__(self,radius):\n",
    "        self.radius = radius\n",
    "\n",
    "    def area(self,radius):\n",
    "        return(PI * self.radius ** 2.0)\n",
    "    \n",
    "    def circumference(self):\n",
    "        return(2 * pi * self.radius)"
   ]
  },
  {
   "cell_type": "code",
   "execution_count": null,
   "metadata": {},
   "outputs": [],
   "source": [
    "cuts = [0.1,0.7,0.8]\n",
    "circles = [Circle(r) for r in cuts]\n",
    "for c in circles:\n",
    "    print(\"A circlet with radius of ',c.radius)\n",
    "    print('Has a perimeter of ',c.circumference())\n",
    "    print(' and a cold area of',c.area())\n",
    "    c.radius *= 1.1\n",
    "    print (' and a warm area of ',c.area())"
   ]
  },
  {
   "cell_type": "markdown",
   "metadata": {},
   "source": [
    "Our third customer, is a national tire chain. "
   ]
  },
  {
   "cell_type": "code",
   "execution_count": null,
   "metadata": {},
   "outputs": [],
   "source": [
    "class Tire(Circle):\n",
    "    ''' Tires are circles with a corrected circumference '''\n",
    "\n",
    "    def circumference(self):\n",
    "        ''' Circumference corrected for the rubber '''\n",
    "        return (Circle.circumference(self) * 1.25\n",
    "\n",
    "t = Tire(22)\n",
    "print ('A tire of radius ', t.radius)\n",
    "print (' has an inner area of ',t.area())\n",
    "print (' and an odometer corrected perimeter of ',t.circumference())"
   ]
  },
  {
   "cell_type": "markdown",
   "metadata": {},
   "source": [
    "Fourth customer, is a graphics company.  \n"
   ]
  },
  {
   "cell_type": "code",
   "execution_count": null,
   "metadata": {},
   "outputs": [],
   "source": [
    "bbd = 25.1\n",
    "c = Circle(bbd_to_radius(bbd))\n",
    "print ('A circle with a bbd of 25.1 ')\n",
    "print (' has a radius of ', c.radius)\n",
    "print (' and an area of ',c.area())"
   ]
  },
  {
   "cell_type": "code",
   "execution_count": null,
   "metadata": {},
   "outputs": [],
   "source": [
    "''' Circuitous, LLC -\n",
    "    An Advanced Circle Analytics Company\n",
    "'''\n",
    "\n",
    "from math import pi,sqrt\n",
    "\\# Note, version numbers should be strings, not floating point objects.\n",
    "version = '0.3'\n",
    "class Circle(object):\n",
    "    ''' An advanced circle analytics toolkit. '''\n",
    "    def __init__(self,radius):\n",
    "        self.radius = radius\n",
    "\n",
    "    def area(self):\n",
    "        return(pi \\* self.radius \\*\\* 2.0)\n",
    "\n",
    "    def circumference(self):\n",
    "        return(2 \\* pi \\* self.radius)\n",
    "\n",
    "    @classmethod\n",
    "    def frombbd(cls,bbd)\n",
    "        radius = bbd / 2.0 / sqrt(2.0)\n",
    "        return(Circle(radius))"
   ]
  },
  {
   "cell_type": "code",
   "execution_count": null,
   "metadata": {},
   "outputs": [],
   "source": [
    "c = Circle.frombbd(125.67)"
   ]
  },
  {
   "cell_type": "markdown",
   "metadata": {},
   "source": [
    "We would like you to provice a conversion function to convert angles to grades. "
   ]
  },
  {
   "cell_type": "code",
   "execution_count": null,
   "metadata": {},
   "outputs": [],
   "source": [
    "''' Circuitous, LLC -\n",
    "    An Advanced Circle Analytics Company\n",
    "'''\n",
    "\n",
    "from math import pi,sqrt\n",
    "\\# Note, version numbers should be strings, not floating point objects.\n",
    "version = '0.3'\n",
    "class Circle(object):\n",
    "    ''' An advanced circle analytics toolkit. '''\n",
    "    def __init__(self,radius):\n",
    "        self.radius = radius\n",
    "\n",
    "    def area(self):\n",
    "        return(pi \\* self.radius \\*\\* 2.0)\n",
    "\n",
    "    def circumference(self):\n",
    "        return(2 \\* pi \\* self.radius)\n",
    "\n",
    "    @classmethod\n",
    "    def frombbd(cls,bbd)\n",
    "        radius = bbd / 2.0 / sqrt(2.0)\n",
    "        return(Circle(radius))\n",
    "    \n",
    "def angle_to_grade(angle):\n",
    "    return (tan(radians(angle)) * 100.0)"
   ]
  },
  {
   "cell_type": "markdown",
   "metadata": {},
   "source": [
    "foo = angle_to_grade(45)\n"
   ]
  },
  {
   "cell_type": "markdown",
   "metadata": {},
   "source": [
    "Spherical trig is not the same as planar trig.  So, it is very possible, that the Sphere toolkit\n",
    "has an angle_to_grade function already. \n",
    "\n",
    "angle_to_grade() "
   ]
  },
  {
   "cell_type": "code",
   "execution_count": null,
   "metadata": {},
   "outputs": [],
   "source": [
    "''' Circuitous, LLC -\n",
    "    An Advanced Circle Analytics Company\n",
    "'''\n",
    "\n",
    "from math import pi,sqrt\n",
    "\\# Note, version numbers should be strings, not floating point objects.\n",
    "version = '0.3'\n",
    "class Circle(object):\n",
    "    ''' An advanced circle analytics toolkit. '''\n",
    "    def __init__(self,radius):\n",
    "        self.radius = radius\n",
    "\n",
    "    def area(self):\n",
    "        return(pi \\* self.radius \\*\\* 2.0)\n",
    "\n",
    "    def circumference(self):\n",
    "        return(2 \\* pi \\* self.radius)\n",
    "\n",
    "    @classmethod\n",
    "    def frombbd(cls,bbd)\n",
    "        radius = bbd / 2.0 / sqrt(2.0)\n",
    "        return(cls(radius))\n",
    "    \n",
    "    @staticmethod\n",
    "    def angle_to_grade(self, angle):\n",
    "        return (tan(radians(angle)) * 100.0)"
   ]
  },
  {
   "cell_type": "code",
   "execution_count": null,
   "metadata": {},
   "outputs": [],
   "source": [
    "Circle.angle_to_grade(45)"
   ]
  },
  {
   "cell_type": "code",
   "execution_count": null,
   "metadata": {},
   "outputs": [],
   "source": [
    "Circle.angle_to_grade(100.00)"
   ]
  },
  {
   "cell_type": "markdown",
   "metadata": {},
   "source": [
    "Our next customer is a government department.  Their requirement is that the circle must be derived from the circumference. \n",
    "When you call the area function, it must derive it from the circumference. \n"
   ]
  },
  {
   "cell_type": "code",
   "execution_count": null,
   "metadata": {},
   "outputs": [],
   "source": [
    "''' Circuitous, LLC -\n",
    "    An Advanced Circle Analytics Company\n",
    "'''\n",
    "\n",
    "from math import pi,radians,sqrt,tan,\n",
    "\\# Note, version numbers should be strings, not floating point objects.\n",
    "version = '0.3'\n",
    "class Circle(object):\n",
    "    ''' An advanced circle analytics toolkit. '''\n",
    "    def \\_\\_init\\_\\_(self,radius):\n",
    "        self.radius = radius\n",
    "\n",
    "\\# Our new area method to comply with government regulations\n",
    "    def area(self):\n",
    "        c = self.circumference\n",
    "        r = c / pi /2.0\n",
    "        return(pi \\* r \\*\\* 2.0)\n",
    "\n",
    "    def circumference(self):\n",
    "        return(2 \\* pi \\* self.radius)\n",
    "\n",
    "    @classmethod\n",
    "    def frombbd(cls,bbd)\n",
    "        radius = bbd / 2.0 / sqrt(2.0)\n",
    "        return(cls(radius))\n",
    "\n",
    "    @staticmethod\n",
    "    def angle_to_grade(angle):\n",
    "        return (tan(radians(angle)) \\* 100.0)"
   ]
  },
  {
   "cell_type": "code",
   "execution_count": null,
   "metadata": {},
   "outputs": [],
   "source": [
    "''' Circuitous, LLC -\n",
    "    An Advanced Circle Analytics Company\n",
    "'''\n",
    "\n",
    "from math import pi,radians,sqrt,tan,\n",
    "\\# Note, version numbers should be strings, not floating point objects.\n",
    "class Circle(object):\n",
    "    ''' An advanced circle analytics toolkit. '''\n",
    "    version = '0.4'\n",
    "    def \\_\\_init\\_\\_(self,radius):\n",
    "        self.radius = radius\n",
    "\n",
    "\\# Our new area method to comply with government regulations\n",
    "\\# Now we use our local saved copy of the circumference rather than the subclass's version.\n",
    "    def area(self):\n",
    "        c = self._circumference\n",
    "        r = c / pi /2.0\n",
    "        return(pi \\* r \\*\\* 2.0)\n",
    "\n",
    "    def circumference(self):\n",
    "        return(2 \\* pi \\* self.radius)\n",
    "\n",
    "\\# Save a local copy of the circumference method.\n",
    "    _circumference = circumference\n",
    "\n",
    "    @classmethod\n",
    "    def frombbd(cls,bbd)\n",
    "        radius = bbd / 2.0 / sqrt(2.0)\n",
    "        return(cls(radius))\n",
    "\n",
    "    @staticmethod\n",
    "    def angle_to_grade(angle):\n",
    "        return (tan(radians(angle)) \\* 100.0"
   ]
  },
  {
   "cell_type": "code",
   "execution_count": null,
   "metadata": {},
   "outputs": [],
   "source": [
    "\n",
    "''' Circuitous, LLC -\n",
    "    An Advanced Circle Analytics Company\n",
    "'''\n",
    "\n",
    "from math import pi,radians,sqrt,tan,\n",
    "\\# Note, version numbers should be strings, not floating point objects.\n",
    "class Circle(object):\n",
    "    ''' An advanced circle analytics toolkit. '''\n",
    "    version = '0.4'\n",
    "    def \\_\\_init\\_\\_(self,radius):\n",
    "        self.radius = radius\n",
    "\n",
    "\\# Our new area method to comply with government regulations\n",
    "\\# We now use the class local referece to refer to the circumference method.\n",
    "\\# This means that subclasses can use this without fear of breaking their own code\n",
    "    def area(self):\n",
    "        c = self.__circumference\n",
    "        r = c / pi /2.0\n",
    "        return(pi \\* r \\*\\* 2.0)\n",
    "\n",
    "    def circumference(self):\n",
    "        return(2 \\* pi \\* self.radius)\n",
    "\n",
    "    @classmethod\n",
    "    def frombbd(cls,bbd)\n",
    "        radius = bbd / 2.0 / sqrt(2.0)\n",
    "        return(cls(radius))\n",
    "\n",
    "    @staticmethod\n",
    "    def angle_to_grade(angle):\n",
    "        return (tan(radians(angle)) \\* 100.0)"
   ]
  },
  {
   "cell_type": "markdown",
   "metadata": {},
   "source": [
    "Our government client has one more requirement. Their regulations require that we store the diameter as an attribute, and not a radius. Unfortunately, doing this now means that the code of all of our other clients will break. Ideally, we'd like to use some sort of a setter and getter method to hide the implementation of how we use and return the radius in our methods. Python allows us to do this by using a property.\n",
    "Let's take a look."
   ]
  },
  {
   "cell_type": "code",
   "execution_count": null,
   "metadata": {},
   "outputs": [],
   "source": [
    "''' Circuitous, LLC -\n",
    "    An Advanced Circle Analytics Company\n",
    "'''\n",
    "\n",
    "from math import pi,radians,sqrt,tan,\n",
    "\\# Note, version numbers should be strings, not floating point objects.\n",
    "class Circle(object):\n",
    "    ''' An advanced circle analytics toolkit. '''\n",
    "    version = '0.4'\n",
    "    def \\_\\_init\\_\\_(self,radius):\n",
    "        self.radius = radius\n",
    "\n",
    "\\# Our new area method to comply with government regulations\n",
    "\\# We now use the class local referece to refer to the circumference method.\n",
    "\\# This means that subclasses can use this without fear of breaking their own code\n",
    "    def area(self):\n",
    "        c = self.__circumference\n",
    "        r = c / pi /2.0\n",
    "        return(pi \\* r \\*\\* 2.0)\n",
    "\n",
    "    def circumference(self):\n",
    "        return(2 \\* pi \\* self.radius)\n",
    "\n",
    "    @classmethod\n",
    "    def frombbd(cls,bbd)\n",
    "        radius = bbd / 2.0 / sqrt(2.0)\n",
    "        return(cls(radius))\n",
    "\n",
    "    @staticmethod\n",
    "    def angle_to_grade(angle):\n",
    "        return (tan(radians(angle)) \\* 100.0)\n",
    "\n",
    "    @property\n",
    "    def method(self):\n",
    "        self.diameter / 2.0\n",
    "\n",
    "    @radius.setter\n",
    "    def radius(self,radius):\n",
    "        self.diameter = radius/2.0"
   ]
  },
  {
   "cell_type": "code",
   "execution_count": null,
   "metadata": {},
   "outputs": [],
   "source": [
    "\\# Note, version numbers should be strings, not floating point objects.\n",
    "class Circle(object):\n",
    "    ''' An advanced circle analytics toolkit. '''\n",
    "    version = '0.5'\n",
    "    __slots__ = ['diameter']\n",
    "\n",
    "    def \\_\\_init\\_\\_(self,radius):\n",
    "        self.radius = radius\n",
    "\n",
    "\\# Our new area method to comply with government regulations\n",
    "\\# We now use the class local referece to refer to the circumference method.\n",
    "\\# This means that subclasses can use this without fear of breaking their own code\n",
    "    def area(self):\n",
    "        c = self.__circumference\n",
    "        r = c / pi /2.0\n",
    "        return(pi \\* r \\*\\* 2.0)\n",
    "\n",
    "    def circumference(self):\n",
    "        return(2 \\* pi \\* self.radius)\n",
    "\n",
    "    @classmethod\n",
    "    def frombbd(cls,bbd)\n",
    "        radius = bbd / 2.0 / sqrt(2.0)\n",
    "        return(cls(radius))\n",
    "\n",
    "    @staticmethod\n",
    "    def angle_to_grade(angle):\n",
    "        return (tan(radians(angle)) \\* 100.0)\n",
    "\n",
    "    @property\n",
    "    def radius(self):\n",
    "        self.diameter / 2.0\n",
    "\n",
    "    @radius.setter\n",
    "    def radius(self,radius):\n",
    "        self.diameter = radius/2.0"
   ]
  }
 ],
 "metadata": {
  "kernelspec": {
   "display_name": "Python 3",
   "language": "python",
   "name": "python3"
  },
  "language_info": {
   "codemirror_mode": {
    "name": "ipython",
    "version": 3
   },
   "file_extension": ".py",
   "mimetype": "text/x-python",
   "name": "python",
   "nbconvert_exporter": "python",
   "pygments_lexer": "ipython3",
   "version": "3.8.5"
  }
 },
 "nbformat": 4,
 "nbformat_minor": 4
}
