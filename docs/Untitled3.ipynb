{
 "cells": [
  {
   "cell_type": "code",
   "execution_count": 8,
   "metadata": {},
   "outputs": [],
   "source": [
    "''' Circuitous, LLC -\n",
    "    An Advanced Circle Analytics Company\n",
    "'''\n",
    "\n",
    "from math import pi\n",
    "\n",
    "version = \"0.1\"\n",
    "class Circle(object):\n",
    "    ''' An advanced circle analytics toolkit. '''\n",
    "    def __init__(self,radius):\n",
    "        self.radius = radius\n",
    "\n",
    "    def area(self):\n",
    "        return(pi * self.radius ** 2.0)"
   ]
  },
  {
   "cell_type": "code",
   "execution_count": 9,
   "metadata": {},
   "outputs": [
    {
     "name": "stdout",
     "output_type": "stream",
     "text": [
      "The average area of  10  random circles\n",
      "9.7\n"
     ]
    }
   ],
   "source": [
    "from random import random,seed\n",
    "seed(8675309)\n",
    "n = 10\n",
    "circles = [Circle(random()) for i in range(n)]\n",
    "print ('The average area of ',n,' random circles')\n",
    "avg = sum((c.area() for c in circles))\n",
    "print ('{:.1f}'.format(avg))"
   ]
  },
  {
   "cell_type": "code",
   "execution_count": 11,
   "metadata": {},
   "outputs": [],
   "source": [
    "''' Circuitous, LLC -\n",
    "    An Advanced Circle Analytics Company\n",
    "'''\n",
    "\n",
    "from math import pi\n",
    "\n",
    "version = \"0.2\"\n",
    "class Circle(object):\n",
    "    ''' An advanced circle analytics toolkit. '''\n",
    "    def __init__(self,radius):\n",
    "        self.radius = radius\n",
    "\n",
    "    def area(self):\n",
    "        return(pi * self.radius ** 2.0)\n",
    "    \n",
    "    def circumference(self):\n",
    "        return(2 * pi * self.radius)"
   ]
  },
  {
   "cell_type": "code",
   "execution_count": null,
   "metadata": {},
   "outputs": [],
   "source": [
    "cuts = [0.1,0.7,0.8]\n",
    "circles = [Circle(r) for r in cuts]\n",
    "for c in circles:\n",
    "    print(\"A circlet with radius of ',c.radius)\n",
    "    print('Has a perimeter of ',c.circumference())\n",
    "    print(' and a cold area of',c.area())\n",
    "    c.radius *= 1.1\n",
    "    print (' and a warm area of ',c.area())"
   ]
  },
  {
   "cell_type": "code",
   "execution_count": null,
   "metadata": {},
   "outputs": [],
   "source": [
    "class Tire(Circle):\n",
    "    ''' Tires are circles with a corrected circumference '''\n",
    "\n",
    "    def circumference(self):\n",
    "        ''' Circumference corrected for the rubber '''\n",
    "        return (Circle.circumference(self) * 1.25\n",
    "\n",
    "t = Tire(22)\n",
    "print ('A tire of radius ', t.radius)\n",
    "print (' has an inner area of ',t.area())\n",
    "print (' and an odometer corrected perimeter of ',t.perimeter()"
   ]
  },
  {
   "cell_type": "code",
   "execution_count": 12,
   "metadata": {},
   "outputs": [
    {
     "ename": "NameError",
     "evalue": "name 'bbd_to_radius' is not defined",
     "output_type": "error",
     "traceback": [
      "\u001b[1;31m---------------------------------------------------------------------------\u001b[0m",
      "\u001b[1;31mNameError\u001b[0m                                 Traceback (most recent call last)",
      "\u001b[1;32m<ipython-input-12-3b6a2919a350>\u001b[0m in \u001b[0;36m<module>\u001b[1;34m\u001b[0m\n\u001b[0;32m      1\u001b[0m \u001b[0mbbd\u001b[0m \u001b[1;33m=\u001b[0m \u001b[1;36m25.1\u001b[0m\u001b[1;33m\u001b[0m\u001b[1;33m\u001b[0m\u001b[0m\n\u001b[1;32m----> 2\u001b[1;33m \u001b[0mc\u001b[0m \u001b[1;33m=\u001b[0m \u001b[0mCircle\u001b[0m\u001b[1;33m(\u001b[0m\u001b[0mbbd_to_radius\u001b[0m\u001b[1;33m(\u001b[0m\u001b[0mbbd\u001b[0m\u001b[1;33m)\u001b[0m\u001b[1;33m)\u001b[0m\u001b[1;33m\u001b[0m\u001b[1;33m\u001b[0m\u001b[0m\n\u001b[0m\u001b[0;32m      3\u001b[0m \u001b[0mprint\u001b[0m \u001b[1;33m(\u001b[0m\u001b[1;34m'A circle with a bbd of 25.1 '\u001b[0m\u001b[1;33m)\u001b[0m\u001b[1;33m\u001b[0m\u001b[1;33m\u001b[0m\u001b[0m\n\u001b[0;32m      4\u001b[0m \u001b[0mprint\u001b[0m \u001b[1;33m(\u001b[0m\u001b[1;34m' has a radius of '\u001b[0m\u001b[1;33m,\u001b[0m \u001b[0mc\u001b[0m\u001b[1;33m.\u001b[0m\u001b[0mradius\u001b[0m\u001b[1;33m)\u001b[0m\u001b[1;33m\u001b[0m\u001b[1;33m\u001b[0m\u001b[0m\n\u001b[0;32m      5\u001b[0m \u001b[0mprint\u001b[0m \u001b[1;33m(\u001b[0m\u001b[1;34m' and an area of '\u001b[0m\u001b[1;33m,\u001b[0m\u001b[0mc\u001b[0m\u001b[1;33m.\u001b[0m\u001b[0marea\u001b[0m\u001b[1;33m(\u001b[0m\u001b[1;33m)\u001b[0m\u001b[1;33m)\u001b[0m\u001b[1;33m\u001b[0m\u001b[1;33m\u001b[0m\u001b[0m\n",
      "\u001b[1;31mNameError\u001b[0m: name 'bbd_to_radius' is not defined"
     ]
    }
   ],
   "source": [
    "bbd = 25.1\n",
    "c = Circle(bbd_to_radius(bbd))\n",
    "print ('A circle with a bbd of 25.1 ')\n",
    "print (' has a radius of ', c.radius)\n",
    "print (' and an area of ',c.area())"
   ]
  },
  {
   "cell_type": "code",
   "execution_count": 11,
   "metadata": {},
   "outputs": [],
   "source": [
    "''' Circuitous, LLC -\n",
    "    An Advanced Circle Analytics Company\n",
    "'''\n",
    "\n",
    "from math import pi\n",
    "\n",
    "version = \"0.3\"\n",
    "class Circle(object):\n",
    "    ''' An advanced circle analytics toolkit. '''\n",
    "    def __init__(self,radius):\n",
    "        self.radius = radius\n",
    "\n",
    "    def area(self):\n",
    "        return(pi * self.radius ** 2.0)\n",
    "    \n",
    "    def circumference(self):\n",
    "        return(2 * pi * self.radius)\n",
    "    \n",
    "    @classmethod\n",
    "    def frombbd(cls,bbd)\n",
    "        radius = bbd / 2.0 / sqrt(2.0)\n",
    "        return(cls(radius))"
   ]
  },
  {
   "cell_type": "code",
   "execution_count": null,
   "metadata": {},
   "outputs": [],
   "source": [
    "''' Circuitous, LLC -\n",
    "    An Advanced Circle Analytics Company\n",
    "'''\n",
    "\n",
    "from math import pi, tan, radians, sqrt\n",
    "\n",
    "version = \"0.5\"\n",
    "\n",
    "class Circle(object):\n",
    "    ''' An advanced circle analytics toolkit. '''\n",
    "    # Save a local copy of the circumference method.\n",
    "    _circumference = circumference\n",
    "    def __init__(self,radius):\n",
    "        self.radius = radius\n",
    "\n",
    "    def area(self):\n",
    "        #return(pi * self.radius ** 2.0)\n",
    "        c = self._circumference\n",
    "        r = c / pi /2.0\n",
    "        return(pi * r ** 2.0)\n",
    "\n",
    "    \n",
    "    def circumference(self):\n",
    "        return(2 * pi * self.radius)\n",
    "    \n",
    "    @classmethod\n",
    "    def frombbd(cls,bbd)\n",
    "        radius = bbd / 2.0 / sqrt(2.0)\n",
    "        return(cls(radius))\n",
    "    \n",
    "    @staticmethod\n",
    "    def angle_to_grade(angle):\n",
    "        return (tan(radians(angle)) * 100.0)"
   ]
  },
  {
   "cell_type": "code",
   "execution_count": null,
   "metadata": {},
   "outputs": [],
   "source": [
    "\\# These two statements are equivalent\n",
    "p = self.__circumference\n",
    "p = self._Circle.__circumference"
   ]
  },
  {
   "cell_type": "code",
   "execution_count": null,
   "metadata": {},
   "outputs": [],
   "source": [
    "def area(self):\n",
    "        c = self.__circumference\n",
    "        r = c / pi /2.0\n",
    "        return(pi * r ** 2.0)"
   ]
  },
  {
   "cell_type": "code",
   "execution_count": null,
   "metadata": {},
   "outputs": [],
   "source": [
    "''' Circuitous, LLC -\n",
    "    An Advanced Circle Analytics Company\n",
    "'''\n",
    "\n",
    "from math import pi, tan, radians, sqrt\n",
    "\n",
    "version = \"0.6\"\n",
    "\n",
    "class Circle(object):\n",
    "    ''' An advanced circle analytics toolkit. '''\n",
    "    # Save a local copy of the circumference method.\n",
    "    _circumference = circumference\n",
    "    def __init__(self,radius):\n",
    "        self.radius = radius\n",
    "\n",
    "    def area(self):\n",
    "        c = self.__circumference\n",
    "        r = c / pi /2.0\n",
    "        return(pi * r ** 2.0)\n",
    "    \n",
    "    def circumference(self):\n",
    "        return(2 * pi * self.radius)\n",
    "    \n",
    "    @classmethod\n",
    "    def frombbd(cls,bbd)\n",
    "        radius = bbd / 2.0 / sqrt(2.0)\n",
    "        return(cls(radius))\n",
    "    \n",
    "    @staticmethod\n",
    "    def angle_to_grade(angle):\n",
    "        return (tan(radians(angle)) * 100.0)"
   ]
  },
  {
   "cell_type": "code",
   "execution_count": null,
   "metadata": {},
   "outputs": [],
   "source": []
  },
  {
   "cell_type": "code",
   "execution_count": null,
   "metadata": {},
   "outputs": [],
   "source": [
    "''' Circuitous, LLC -\n",
    "    An Advanced Circle Analytics Company\n",
    "'''\n",
    "\n",
    "from math import pi, tan, radians, sqrt\n",
    "\n",
    "version = \"0.6\"\n",
    "\n",
    "class Circle(object):\n",
    "    ''' An advanced circle analytics toolkit. '''\n",
    "    # Save a local copy of the circumference method.\n",
    "    _circumference = circumference\n",
    "    def __init__(self,radius):\n",
    "        self.diameter=radius * 2\n",
    "\n",
    "    def area(self):\n",
    "        c = self.__circumference\n",
    "        r = c / pi /2.0\n",
    "        return(pi * r ** 2.0)\n",
    "    \n",
    "    def circumference(self):\n",
    "        return(2 * pi * self.radius)\n",
    "    \n",
    "    @classmethod\n",
    "    def frombbd(cls,bbd)\n",
    "        radius = bbd / 2.0 / sqrt(2.0)\n",
    "        return(cls(radius))\n",
    "    \n",
    "    @staticmethod\n",
    "    def angle_to_grade(angle):\n",
    "        return (tan(radians(angle)) * 100.0)\n",
    "    \n",
    "    @property\n",
    "    def radius(self):\n",
    "        self.diameter / 2.0\n",
    "\n",
    "    @radius.setter\n",
    "    def radius(self,radius):\n",
    "        self.diameter = radius/2.0"
   ]
  }
 ],
 "metadata": {
  "kernelspec": {
   "display_name": "Python 3",
   "language": "python",
   "name": "python3"
  },
  "language_info": {
   "codemirror_mode": {
    "name": "ipython",
    "version": 3
   },
   "file_extension": ".py",
   "mimetype": "text/x-python",
   "name": "python",
   "nbconvert_exporter": "python",
   "pygments_lexer": "ipython3",
   "version": "3.8.5"
  }
 },
 "nbformat": 4,
 "nbformat_minor": 4
}
