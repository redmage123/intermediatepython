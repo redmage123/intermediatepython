{
 "cells": [
  {
   "cell_type": "code",
   "execution_count": null,
   "metadata": {},
   "outputs": [],
   "source": [
    "''' Circuitous, LLC -\n",
    "    An Advanced Circle Analytics Company\n",
    "'''\n",
    "\n",
    "class Circle(object):\n",
    "    ''' An advanced circle analytics toolkit. '''\n",
    "    def __init__(self,radius):\n",
    "        self.radius = radius\n",
    "\n",
    "    def area(self,radius):\n",
    "        return(3.14 * self.radius ** 2.0)\n",
    "\n",
    "\n",
    "\n",
    "\n",
    "\n",
    "\n",
    "\n",
    "\n",
    "\n"
   ]
  },
  {
   "cell_type": "code",
   "execution_count": null,
   "metadata": {},
   "outputs": [],
   "source": [
    "''' Circuitous, LLC -\n",
    "    An Advanced Circle Analytics Company\n",
    "'''\n",
    "\n",
    "from math import pi\n",
    "\\# Note, version numbers should be strings, not floating point objects.\n",
    "version = '0.1'\n",
    "class Circle(object):\n",
    "    ''' An advanced circle analytics toolkit. '''\n",
    "    def __init__(self,radius):\n",
    "        self.radius = radius\n",
    "\n",
    "    def area(self):\n",
    "         return(pi * self.radius ** 2.0)"
   ]
  },
  {
   "cell_type": "markdown",
   "metadata": {},
   "source": [
    "A University is our first customer. "
   ]
  },
  {
   "cell_type": "code",
   "execution_count": null,
   "metadata": {},
   "outputs": [],
   "source": [
    "from random import random,seed\n",
    "seed(8675309)\n",
    "n = 10\n",
    "circles = [Circle(random()) for i in range(n)]\n",
    "print ('The average area of ',n,' random circles')\n",
    "avg = sum((c.area() for c in circles))\n",
    "print ('{:.1f}'.format(avg))"
   ]
  },
  {
   "cell_type": "code",
   "execution_count": null,
   "metadata": {},
   "outputs": [],
   "source": [
    "''' Circuitous, LLC -\n",
    "    An Advanced Circle Analytics Company\n",
    "'''\n",
    "\n",
    "from math import pi\n",
    "\\# Note, version numbers should be strings, not floating point objects.\n",
    "version = '0.2'\n",
    "class Circle(object):\n",
    "    ''' An advanced circle analytics toolkit. '''\n",
    "    def __init__(self,radius):\n",
    "        self.radius = radius\n",
    "\n",
    "    def area(self):\n",
    "        return(pi \\* self.radius \\*\\* 2.0)\n",
    "\n",
    "    def circumference(self):\n",
    "        return(2 \\* pi \\* self.radius)"
   ]
  },
  {
   "cell_type": "code",
   "execution_count": null,
   "metadata": {},
   "outputs": [],
   "source": [
    "cuts = [0.1,0.7,0.8]\n",
    "circles = [Circle(r) for r in cuts]\n",
    "for c in circles:\n",
    "    print(\"A circlet with radius of ',c.radius)\n",
    "    print('Has a perimeter of ',c.circumference())\n",
    "    print(' and a cold area of',c.area())\n",
    "    c.radius *= 1.1\n",
    "    print (' and a warm area of ',c.area())"
   ]
  },
  {
   "cell_type": "markdown",
   "metadata": {},
   "source": [
    "First customer.  University\n",
    "Second customer.  Rubber company\n",
    "third customer:  National Tire chain. \n",
    "\n"
   ]
  },
  {
   "cell_type": "code",
   "execution_count": null,
   "metadata": {},
   "outputs": [],
   "source": [
    "class Tire(Circle):\n",
    "    ''' Tires are circles with a corrected circumference '''\n",
    "\n",
    "    def circumference(self):\n",
    "        ''' Circumference corrected for the rubber '''\n",
    "        return (Circle.circumference(self) * 1.25\n",
    "\n",
    "t = Tire(22)\n",
    "t1 = Tire.frombbd(125.67)                \n",
    "print ('A tire of radius ', t.radius)\n",
    "print (' has an inner area of ',t.area())\n",
    "print (' and an odometer corrected perimeter of ',t.perimeter())"
   ]
  },
  {
   "cell_type": "markdown",
   "metadata": {},
   "source": [
    "Fourth customer:  Graphics company.  \n",
    "Bounding Box Diagonal. \n",
    "\n"
   ]
  },
  {
   "cell_type": "code",
   "execution_count": null,
   "metadata": {},
   "outputs": [],
   "source": [
    "bbd = 125.65\n",
    "c = Circle(bbd_to_radius(bbd))"
   ]
  },
  {
   "cell_type": "code",
   "execution_count": null,
   "metadata": {},
   "outputs": [],
   "source": [
    "''' Circuitous, LLC -\n",
    "    An Advanced Circle Analytics Company\n",
    "'''\n",
    "\n",
    "from math import pi,sqrt\n",
    "\\# Note, version numbers should be strings, not floating point objects.\n",
    "version = '0.3'\n",
    "class Circle(object):\n",
    "    ''' An advanced circle analytics toolkit. '''\n",
    "    def __init__(self,radius):\n",
    "        self.radius = radius\n",
    "\n",
    "    def area(self):\n",
    "        return(pi * self.radius ** 2.0)\n",
    "\n",
    "    def circumference(self):\n",
    "        return(2 * pi * self.radius)\n",
    "\n",
    "    @classmethod\n",
    "    def frombbd(cls,bbd)\n",
    "        radius = bbd / 2.0 / sqrt(2.0)\n",
    "        return(Circle(radius))"
   ]
  },
  {
   "cell_type": "code",
   "execution_count": null,
   "metadata": {},
   "outputs": [],
   "source": [
    "''' Circuitous, LLC -\n",
    "    An Advanced Circle Analytics Company\n",
    "'''\n",
    "\n",
    "from math import pi,sqrt\n",
    "\\# Note, version numbers should be strings, not floating point objects.\n",
    "version = '0.3'\n",
    "class Circle(object):\n",
    "    ''' An advanced circle analytics toolkit. '''\n",
    "    def __init__(self,radius):\n",
    "        self.radius = radius\n",
    "\n",
    "    def area(self):\n",
    "        return(pi * self.radius ** 2.0)\n",
    "\n",
    "    def circumference(self):\n",
    "        return(2 * pi * self.radius)\n",
    "\n",
    "    @classmethod\n",
    "    def frombbd(cls,bbd)\n",
    "        radius = bbd / 2.0 / sqrt(2.0)\n",
    "        return(cls(radius))"
   ]
  },
  {
   "cell_type": "code",
   "execution_count": null,
   "metadata": {},
   "outputs": [],
   "source": [
    "bbd = 125.67\n",
    "c = Circle.frombbd(bbd)"
   ]
  },
  {
   "cell_type": "code",
   "execution_count": null,
   "metadata": {},
   "outputs": [],
   "source": [
    "We would like a function that converts angles to radians.\n",
    "\n"
   ]
  },
  {
   "cell_type": "code",
   "execution_count": null,
   "metadata": {},
   "outputs": [],
   "source": [
    "''' Circuitous, LLC -\n",
    "    An Advanced Circle Analytics Company\n",
    "'''\n",
    "\n",
    "from math import pi,radians,sqrt,tan,\n",
    "\\# Note, version numbers should be strings, not floating point objects.\n",
    "version = '0.4'\n",
    "class Circle(object):\n",
    "    ''' An advanced circle analytics toolkit. '''\n",
    "    def \\_\\_init\\_\\_(self,radius):\n",
    "        self.radius = radius\n",
    "\n",
    "    def area(self):\n",
    "        return(pi \\* self.radius \\*\\* 2.0)\n",
    "\n",
    "    def circumference(self):\n",
    "        return(2 \\* pi \\* self.radius)\n",
    "\n",
    "    @classmethod\n",
    "    def frombbd(cls,bbd)\n",
    "        radius = bbd / 2.0 / sqrt(2.0)\n",
    "        return(cls(radius))\n",
    "\n",
    "def angle_to_grade(angle):\n",
    "    return (tan(radians(angle)) * 100.0)\n",
    "\n"
   ]
  },
  {
   "cell_type": "markdown",
   "metadata": {},
   "source": [
    "Spherical trigonometry is different from plane trigonometry. "
   ]
  },
  {
   "cell_type": "code",
   "execution_count": null,
   "metadata": {},
   "outputs": [],
   "source": [
    "''' Circuitous, LLC -\n",
    "    An Advanced Circle Analytics Company\n",
    "'''\n",
    "\n",
    "from math import pi,radians,sqrt,tan,\n",
    "\\# Note, version numbers should be strings, not floating point objects.\n",
    "version = '0.5'\n",
    "class Circle(object):\n",
    "    ''' An advanced circle analytics toolkit. '''\n",
    "    def \\_\\_init\\_\\_(self,radius):\n",
    "        self.radius = radius\n",
    "\n",
    "    def area(self):\n",
    "        return(pi \\* self.radius \\*\\* 2.0)\n",
    "\n",
    "    def circumference(self):\n",
    "        return(2 \\* pi \\* self.radius)\n",
    "\n",
    "    @classmethod\n",
    "    def frombbd(cls,bbd)\n",
    "        radius = bbd / 2.0 / sqrt(2.0)\n",
    "        return(cls(radius))\n",
    " \n",
    "    @staticmethod\n",
    "    def angle_to_grade(angle):\n",
    "        return (tan(radians(angle)) * 100.0)"
   ]
  },
  {
   "cell_type": "code",
   "execution_count": null,
   "metadata": {},
   "outputs": [],
   "source": [
    "Circle.angle_to_grade(45)"
   ]
  },
  {
   "cell_type": "markdown",
   "metadata": {},
   "source": [
    "Fifth customer:  Large governent department. \n",
    "\n",
    "Certain rules must be applied. Circles must be derived from the circumference value. \n"
   ]
  },
  {
   "cell_type": "code",
   "execution_count": null,
   "metadata": {},
   "outputs": [],
   "source": [
    "''' Circuitous, LLC -\n",
    "    An Advanced Circle Analytics Company\n",
    "'''\n",
    "\n",
    "from math import pi,radians,sqrt,tan,\n",
    "\\# Note, version numbers should be strings, not floating point objects.\n",
    "version = '0.3'\n",
    "class Circle(object):\n",
    "    ''' An advanced circle analytics toolkit. '''\n",
    "    def \\_\\_init\\_\\_(self,radius):\n",
    "        self.radius = radius\n",
    "\n",
    "\\# Our new area method to comply with government regulations\n",
    "    def area(self):\n",
    "        c = self.circumference\n",
    "        r = c / pi /2.0\n",
    "        return(pi \\* r \\*\\* 2.0)\n",
    "\n",
    "    def circumference(self):\n",
    "        return(2 \\* pi \\* self.radius)\n",
    "\n",
    "    @classmethod\n",
    "    def frombbd(cls,bbd)\n",
    "        radius = bbd / 2.0 / sqrt(2.0)\n",
    "        return(cls(radius))\n",
    "\n",
    "    @staticmethod\n",
    "    def angle_to_grade(angle):\n",
    "        return (tan(radians(angle)) \\* 100.0)"
   ]
  }
 ],
 "metadata": {
  "kernelspec": {
   "display_name": "Python 3",
   "language": "python",
   "name": "python3"
  },
  "language_info": {
   "codemirror_mode": {
    "name": "ipython",
    "version": 3
   },
   "file_extension": ".py",
   "mimetype": "text/x-python",
   "name": "python",
   "nbconvert_exporter": "python",
   "pygments_lexer": "ipython3",
   "version": "3.8.5"
  }
 },
 "nbformat": 4,
 "nbformat_minor": 4
}
