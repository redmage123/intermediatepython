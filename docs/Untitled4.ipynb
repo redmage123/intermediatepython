{
 "cells": [
  {
   "cell_type": "code",
   "execution_count": null,
   "metadata": {},
   "outputs": [],
   "source": [
    "''' Circuitous, LLC -\n",
    "    An Advanced Circle Analytics Company\n",
    "'''\n",
    "\n",
    "class Circle(object):\n",
    "    ''' An advanced circle analytics toolkit. '''\n",
    "    def __init__(self,radius):\n",
    "        self.radius = radius\n",
    "\n",
    "    def area(self):\n",
    "        return 3.14 * self.radius ** 2.0"
   ]
  },
  {
   "cell_type": "code",
   "execution_count": null,
   "metadata": {},
   "outputs": [],
   "source": [
    "''' Circuitous, LLC -\n",
    "    An Advanced Circle Analytics Company\n",
    "'''\n",
    "\n",
    "from math import pi\n",
    "\n",
    "class Circle(object):\n",
    "    ''' An advanced circle analytics toolkit. '''\n",
    "    def __init__(self,radius):\n",
    "        self.radius = radius\n",
    "\n",
    "    def area(self):\n",
    "        return pi * self.radius ** 2.0"
   ]
  },
  {
   "cell_type": "code",
   "execution_count": 2,
   "metadata": {},
   "outputs": [],
   "source": [
    "''' Circuitous, LLC -\n",
    "    An Advanced Circle Analytics Company\n",
    "'''\n",
    "\n",
    "version = \"0.1\"\n",
    "from math import pi\n",
    "class Circle(object):\n",
    "    ''' An advanced circle analytics toolkit. '''\n",
    "    def __init__(self,radius):\n",
    "        self.radius = radius\n",
    "\n",
    "    def area(self):\n",
    "        return pi * self.radius ** 2.0"
   ]
  },
  {
   "cell_type": "code",
   "execution_count": 3,
   "metadata": {},
   "outputs": [
    {
     "name": "stdout",
     "output_type": "stream",
     "text": [
      "The average area of  10  random circles\n",
      "9.7\n"
     ]
    }
   ],
   "source": [
    "from random import random,seed\n",
    "seed(8675309)\n",
    "n = 10\n",
    "circles = [Circle(random()) for i in range(n)]\n",
    "print ('The average area of ',n,' random circles')\n",
    "avg = sum((c.area() for c in circles))\n",
    "print ('{:.1f}'.format(avg))"
   ]
  },
  {
   "cell_type": "code",
   "execution_count": null,
   "metadata": {},
   "outputs": [],
   "source": []
  },
  {
   "cell_type": "code",
   "execution_count": 2,
   "metadata": {},
   "outputs": [],
   "source": [
    "''' Circuitous, LLC -\n",
    "    An Advanced Circle Analytics Company\n",
    "'''\n",
    "\n",
    "version = \"0.1\"\n",
    "from math import pi\n",
    "class Circle(object):\n",
    "    ''' An advanced circle analytics toolkit. '''\n",
    "    def __init__(self,radius):\n",
    "        self.radius = radius\n",
    "        \n",
    "    def circumference(self):\n",
    "        return(2 * pi * self.radius)\n",
    "\n",
    "    def area(self):\n",
    "        return pi * self.radius ** 2.0"
   ]
  },
  {
   "cell_type": "code",
   "execution_count": null,
   "metadata": {},
   "outputs": [],
   "source": [
    "cuts = [0.1,0.7,0.8]\n",
    "circles = [Circle(r) for r in cuts]\n",
    "for c in circles:\n",
    "    print(\"A circlet with radius of ',c.radius)\n",
    "    print('Has a perimeter of ',c.circumference())\n",
    "    print(' and a cold area of',c.area())\n",
    "    c.radius *= 1.1\n",
    "    print (' and a warm area of ',c.area())"
   ]
  },
  {
   "cell_type": "code",
   "execution_count": 2,
   "metadata": {},
   "outputs": [],
   "source": [
    "class Tire(Circle):\n",
    "    ''' Tires are circles with a corrected circumference '''\n",
    "\n",
    "    def circumference(self):\n",
    "        ''' Circumference corrected for the rubber '''\n",
    "        return (Circle.circumference(self) * 1.25\n",
    "\n",
    "t = Tire(22)\n",
    "print ('A tire of radius ', t.radius)\n",
    "print (' has an inner area of ',t.area())\n",
    "print (' and an odometer corrected perimeter of ',t.perimeter())"
   ]
  },
  {
   "cell_type": "code",
   "execution_count": null,
   "metadata": {},
   "outputs": [],
   "source": [
    "bbd = 25.1\n",
    "c = Circle(bbd_to_radius(bbd))\n",
    "print ('A circle with a bbd of 25.1 ')\n",
    "print (' has a radius of ', c.radius)\n",
    "print (' and an area of ',c.area())"
   ]
  },
  {
   "cell_type": "code",
   "execution_count": null,
   "metadata": {},
   "outputs": [],
   "source": [
    "''' Circuitous, LLC -\n",
    "    An Advanced Circle Analytics Company\n",
    "'''\n",
    "\n",
    "version = \"0.2\"\n",
    "from math import pi, sqrt\n",
    "class Circle(object):\n",
    "    ''' An advanced circle analytics toolkit. '''\n",
    "    def __init__(self,radius):\n",
    "        self.radius = radius\n",
    "        \n",
    "    def circumference(self):\n",
    "        return(2 * pi * self.radius)\n",
    "\n",
    "    def area(self):\n",
    "        return pi * self.radius ** 2.0\n",
    "    \n",
    "    @classmethod \n",
    "    def frombbd(cls,bbd):\n",
    "        radius = bbd/2.0/sqrt(2.0)\n",
    "        return cls(radius)"
   ]
  },
  {
   "cell_type": "markdown",
   "metadata": {},
   "source": [
    "We want a function that takes an angle and returns radians. \n"
   ]
  },
  {
   "cell_type": "code",
   "execution_count": null,
   "metadata": {},
   "outputs": [],
   "source": [
    "''' Circuitous, LLC -\n",
    "    An Advanced Circle Analytics Company\n",
    "'''\n",
    "\n",
    "from math import pi,radians,sqrt,tan,\n",
    "\\# Note, version numbers should be strings, not floating point objects.\n",
    "version = '0.2'\n",
    "class Circle(object):\n",
    "    ''' An advanced circle analytics toolkit. '''\n",
    "    def __init__(self,radius):\n",
    "        self.radius = radius\n",
    "\n",
    "    def area(self):\n",
    "        return(pi * self.radius ** 2.0)\n",
    "\n",
    "    def circumference(self):\n",
    "        return(2 * pi * self.radius)\n",
    "\n",
    "    @classmethod\n",
    "    def frombbd(cls,bbd)\n",
    "        radius = bbd / 2.0 / sqrt(2.0)\n",
    "        return(cls(radius))\n",
    "\n",
    "def angle_to_grade(angle):\n",
    "    return (tan(radians(angle)) * 100.0)"
   ]
  },
  {
   "cell_type": "code",
   "execution_count": null,
   "metadata": {},
   "outputs": [],
   "source": []
  },
  {
   "cell_type": "code",
   "execution_count": 7,
   "metadata": {},
   "outputs": [],
   "source": [
    "''' Circuitous, LLC -\n",
    "    An Advanced Circle Analytics Company\n",
    "'''\n",
    "\n",
    "from math import pi,radians,sqrt,tan\n",
    "# Note, version numbers should be strings, not floating point objects.\n",
    "version = '0.3'\n",
    "class Circle(object):\n",
    "    ''' An advanced circle analytics toolkit. '''\n",
    "    def __init__(self,radius):\n",
    "        self.radius = radius\n",
    "\n",
    "    def area(self):\n",
    "        return(pi * self.radius ** 2.0)\n",
    "\n",
    "    def circumference(self):\n",
    "        return(2 * pi * self.radius)\n",
    "\n",
    "    @classmethod\n",
    "    def frombbd(cls,bbd):\n",
    "        radius = bbd / 2.0 / sqrt(2.0)\n",
    "        return(cls(radius))\n",
    "\n",
    "    @staticmethod\n",
    "    def angle_to_grade(angle):\n",
    "        return (tan(radians(angle)) * 100.0)"
   ]
  },
  {
   "cell_type": "code",
   "execution_count": null,
   "metadata": {},
   "outputs": [],
   "source": [
    "bbd=25.0\n",
    "c = Circle.frombbd(bbd)\n",
    "Circle.angle_to_grade(45)"
   ]
  },
  {
   "cell_type": "code",
   "execution_count": null,
   "metadata": {},
   "outputs": [],
   "source": []
  },
  {
   "cell_type": "code",
   "execution_count": 7,
   "metadata": {},
   "outputs": [],
   "source": [
    "''' Circuitous, LLC -\n",
    "    An Advanced Circle Analytics Company\n",
    "'''\n",
    "\n",
    "from math import pi,radians,sqrt,tan\n",
    "# Note, version numbers should be strings, not floating point objects.\n",
    "version = '0.3'\n",
    "class Circle(object):\n",
    "    ''' An advanced circle analytics toolkit. '''\n",
    "    def __init__(self,radius):\n",
    "        self.radius = radius\n",
    "\n",
    "    def area(self):\n",
    "        c = self.circumference\n",
    "        r = c / pi /2.0\n",
    "        return(pi * r ** 2.0)\n",
    "    \n",
    "    def circumference(self):\n",
    "        return(2 * pi * self.radius)\n",
    "\n",
    "    @classmethod\n",
    "    def frombbd(cls,bbd):\n",
    "        radius = bbd / 2.0 / sqrt(2.0)\n",
    "        return(cls(radius))\n",
    "\n",
    "    @staticmethod\n",
    "    def angle_to_grade(angle):\n",
    "        return (tan(radians(angle)) * 100.0)"
   ]
  },
  {
   "cell_type": "code",
   "execution_count": null,
   "metadata": {},
   "outputs": [],
   "source": []
  },
  {
   "cell_type": "code",
   "execution_count": 7,
   "metadata": {},
   "outputs": [],
   "source": [
    "''' Circuitous, LLC -\n",
    "    An Advanced Circle Analytics Company\n",
    "'''\n",
    "\n",
    "from math import pi,radians,sqrt,tan\n",
    "# Note, version numbers should be strings, not floating point objects.\n",
    "version = '0.3'\n",
    "class Circle(object):\n",
    "    ''' An advanced circle analytics toolkit. '''\n",
    "    def __init__(self,radius):\n",
    "        self.radius = radius\n",
    "\n",
    "    def area(self):\n",
    "        return(pi * self.radius ** 2.0)\n",
    "\n",
    "    def circumference(self):\n",
    "        return(2 * pi * self.radius)\n",
    "\n",
    "    @classmethod\n",
    "    def frombbd(cls,bbd):\n",
    "        radius = bbd / 2.0 / sqrt(2.0)\n",
    "        return(cls(radius))\n",
    "\n",
    "    @staticmethod\n",
    "    def angle_to_grade(angle):\n",
    "        return (tan(radians(angle)) * 100.0)"
   ]
  },
  {
   "cell_type": "code",
   "execution_count": null,
   "metadata": {},
   "outputs": [],
   "source": []
  },
  {
   "cell_type": "code",
   "execution_count": 7,
   "metadata": {},
   "outputs": [],
   "source": [
    "''' Circuitous, LLC -\n",
    "    An Advanced Circle Analytics Company\n",
    "'''\n",
    "\n",
    "from math import pi,radians,sqrt,tan\n",
    "# Note, version numbers should be strings, not floating point objects.\n",
    "version = '0.3'\n",
    "class Circle(object):\n",
    "    ''' An advanced circle analytics toolkit. '''\n",
    "    \n",
    "    _circumference = circumference\n",
    "    \n",
    "    def __init__(self,radius):\n",
    "        self.radius = radius\n",
    "\n",
    "    def area(self):\n",
    "        c = self._circumference\n",
    "        r = c / pi /2.0\n",
    "        return(pi * r ** 2.0)\n",
    "\n",
    "    def circumference(self):\n",
    "        return(2 * pi * self.radius)\n",
    "\n",
    "    @classmethod\n",
    "    def frombbd(cls,bbd):\n",
    "        radius = bbd / 2.0 / sqrt(2.0)\n",
    "        return(cls(radius))\n",
    "\n",
    "    @staticmethod\n",
    "    def angle_to_grade(angle):\n",
    "        return (tan(radians(angle)) * 100.0)"
   ]
  },
  {
   "cell_type": "code",
   "execution_count": null,
   "metadata": {},
   "outputs": [],
   "source": [
    "p = self.__perimeter\n",
    "p = self._Circle.__perimeter\n",
    "\n",
    "\n",
    "\n"
   ]
  },
  {
   "cell_type": "code",
   "execution_count": null,
   "metadata": {},
   "outputs": [],
   "source": [
    "    \n"
   ]
  },
  {
   "cell_type": "code",
   "execution_count": 7,
   "metadata": {},
   "outputs": [],
   "source": [
    "''' Circuitous, LLC -\n",
    "    An Advanced Circle Analytics Company\n",
    "'''\n",
    "\n",
    "from math import pi,radians,sqrt,tan\n",
    "# Note, version numbers should be strings, not floating point objects.\n",
    "version = '0.3'\n",
    "class Circle(object):\n",
    "    ''' An advanced circle analytics toolkit. '''\n",
    "    \n",
    "    _circumference = circumference\n",
    "    \n",
    "    def __init__(self,radius):\n",
    "        self.radius = radius\n",
    "\n",
    "    def area(self):\n",
    "        c = self.__circumference\n",
    "        r = c / pi /2.0\n",
    "        return(pi * r ** 2.0)\n",
    "\n",
    "    def circumference(self):\n",
    "        return(2 * pi * self.radius)\n",
    "\n",
    "    @classmethod\n",
    "    def frombbd(cls,bbd):\n",
    "        radius = bbd / 2.0 / sqrt(2.0)\n",
    "        return(cls(radius))\n",
    "\n",
    "    @staticmethod\n",
    "    def angle_to_grade(angle):\n",
    "        return (tan(radians(angle)) * 100.0)"
   ]
  }
 ],
 "metadata": {
  "kernelspec": {
   "display_name": "Python 3",
   "language": "python",
   "name": "python3"
  },
  "language_info": {
   "codemirror_mode": {
    "name": "ipython",
    "version": 3
   },
   "file_extension": ".py",
   "mimetype": "text/x-python",
   "name": "python",
   "nbconvert_exporter": "python",
   "pygments_lexer": "ipython3",
   "version": "3.8.5"
  }
 },
 "nbformat": 4,
 "nbformat_minor": 4
}
