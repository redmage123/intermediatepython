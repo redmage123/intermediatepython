{
 "cells": [
  {
   "cell_type": "code",
   "execution_count": 2,
   "metadata": {},
   "outputs": [
    {
     "name": "stdout",
     "output_type": "stream",
     "text": [
      "Braun Brelin 21\n"
     ]
    }
   ],
   "source": [
    "class Person:\n",
    "\n",
    "#  Init is *\"not* a constructor!!!!!!!\"\n",
    "#  self, can point to the 'you', or to your children. \n",
    "    def __init__(self,name: str,age: int):\n",
    "        self.name = name\n",
    "        self.age = age\n",
    "        \n",
    "    def __str__(self) -> str:\n",
    "        return (f\"{self.name} {self.age}\")\n",
    "                \n",
    "        \n",
    "    \n",
    "p = Person('Braun Brelin', 21)\n",
    "\n",
    "print (p)"
   ]
  },
  {
   "cell_type": "code",
   "execution_count": 15,
   "metadata": {},
   "outputs": [
    {
     "ename": "IndentationError",
     "evalue": "expected an indented block (<ipython-input-15-1acf2c12deea>, line 34)",
     "output_type": "error",
     "traceback": [
      "\u001b[1;36m  File \u001b[1;32m\"<ipython-input-15-1acf2c12deea>\"\u001b[1;36m, line \u001b[1;32m34\u001b[0m\n\u001b[1;33m    self._x = int(newval)\u001b[0m\n\u001b[1;37m    ^\u001b[0m\n\u001b[1;31mIndentationError\u001b[0m\u001b[1;31m:\u001b[0m expected an indented block\n"
     ]
    }
   ],
   "source": [
    "class Vector:\n",
    "    \n",
    "    vector_count = 0\n",
    "    def __init__(self,x: int,y: int):\n",
    "        self._x = x\n",
    "        self._y = y\n",
    "        Vector.vector_count += 1\n",
    "        \n",
    "    def __str__(self) -> str:\n",
    "        return f\"{self.x } {self.y}\"\n",
    "    \n",
    "    def __add__(self: Vector, other: Vector) -> Vector:\n",
    "        return Vector(self.x + other.x, self.y + other.y)\n",
    "\n",
    "    @staticmethod\n",
    "    def convert_to_float(x: int) -> float:\n",
    "        return float(x)\n",
    "    \n",
    "    @classmethod \n",
    "    def fromfloat(cls, x: float, y: float):\n",
    "        return cls(int(x), int(y))\n",
    "    \n",
    "    \n",
    "\n",
    "    @property\n",
    "    def x(self):\n",
    "        return self._x\n",
    "    \n",
    "    @x.setter\n",
    "    def x(self, newval):\n",
    "        if type (newval) != int or type(newval) != float:\n",
    "            raise (\"Invalid type\")\n",
    "        else:\n",
    "        self._x = int(newval)\n",
    "        \n",
    "        \n",
    "        \n",
    "    \n",
    "    \n",
    "    \n",
    "    \n",
    "class MyVector(Vector):\n",
    "    def __init__(self):\n",
    "        pass\n",
    "    \n",
    "    \n",
    "        \n",
    "        \n",
    "V1 = Vector(2,2)\n",
    "print (V1)\n",
    "V2 = Vector (3,3)\n",
    "V3 = V1 + V2\n",
    "print (V3)\n",
    "print (Vector.vector_count)\n",
    "print (Vector.convert_to_float(10))\n",
    "\n",
    "V4 = Vector.fromfloat(10,0,20.0)\n",
    "V5 = MyVector.fromfloat(10.0,20.0)\n",
    "\n",
    "V3 = V1 + V2"
   ]
  }
 ],
 "metadata": {
  "kernelspec": {
   "display_name": "Python 3",
   "language": "python",
   "name": "python3"
  },
  "language_info": {
   "codemirror_mode": {
    "name": "ipython",
    "version": 3
   },
   "file_extension": ".py",
   "mimetype": "text/x-python",
   "name": "python",
   "nbconvert_exporter": "python",
   "pygments_lexer": "ipython3",
   "version": "3.8.5"
  }
 },
 "nbformat": 4,
 "nbformat_minor": 4
}
